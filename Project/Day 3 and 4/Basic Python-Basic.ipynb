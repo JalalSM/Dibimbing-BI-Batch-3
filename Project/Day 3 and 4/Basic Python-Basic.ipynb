{
 "cells": [
  {
   "cell_type": "markdown",
   "id": "789c0845-533b-4469-85c6-0f6c77b41b6f",
   "metadata": {},
   "source": [
    "Jalaludin Shofa"
   ]
  },
  {
   "cell_type": "markdown",
   "id": "29b6dbeb-54d0-4da7-ac77-f5b758a43ffc",
   "metadata": {},
   "source": [
    "Business Intelligence Batch 3"
   ]
  },
  {
   "cell_type": "markdown",
   "id": "b0000a65-1b7a-457e-96f0-f677dc739fbc",
   "metadata": {},
   "source": [
    "# 1"
   ]
  },
  {
   "cell_type": "code",
   "execution_count": 6,
   "id": "73375807-1dcb-4153-b9a1-571a0b130891",
   "metadata": {},
   "outputs": [
    {
     "name": "stdin",
     "output_type": "stream",
     "text": [
      "Nama: jalal\n"
     ]
    },
    {
     "name": "stdout",
     "output_type": "stream",
     "text": [
      "Hi jalal!\n"
     ]
    }
   ],
   "source": [
    "nama = input('Nama:')\n",
    "print('Hi',nama+'!')"
   ]
  },
  {
   "cell_type": "markdown",
   "id": "78539b6f-5f68-4aa6-a04d-b47076e1b4dc",
   "metadata": {},
   "source": [
    "# 2"
   ]
  },
  {
   "cell_type": "code",
   "execution_count": 23,
   "id": "208a597c-ee0f-452b-b51b-ecd932968cdb",
   "metadata": {},
   "outputs": [
    {
     "name": "stdin",
     "output_type": "stream",
     "text": [
      "Panjang (meter) : 3\n",
      "Lebar (meter)   : 3\n"
     ]
    },
    {
     "name": "stdout",
     "output_type": "stream",
     "text": [
      "Luas            : 9 meter persegi\n",
      "Luas            : 0.0009 hectare\n"
     ]
    }
   ],
   "source": [
    "panjang = input('Panjang (meter) :')\n",
    "lebar   = input('Lebar (meter)   :')\n",
    "luas    = int(panjang)*int(lebar)\n",
    "print('Luas            :',luas,'meter persegi')\n",
    "print('Luas            :',luas/10000,'hectare')"
   ]
  },
  {
   "cell_type": "markdown",
   "id": "d8e29bf9-45af-4044-b831-e163db9cb0da",
   "metadata": {},
   "source": [
    "# 3"
   ]
  },
  {
   "cell_type": "code",
   "execution_count": 34,
   "id": "ee60aaa1-bc43-4493-8ff8-2c5b71e39ddf",
   "metadata": {},
   "outputs": [
    {
     "name": "stdin",
     "output_type": "stream",
     "text": [
      "Masukkan angka: 10\n"
     ]
    },
    {
     "name": "stdout",
     "output_type": "stream",
     "text": [
      "55\n"
     ]
    }
   ],
   "source": [
    "bilangan = input('Masukkan angka:')\n",
    "angka    = 0\n",
    "for i in range(0,int(bilangan)+1):\n",
    "    angka = angka+i\n",
    "print(angka)"
   ]
  },
  {
   "cell_type": "markdown",
   "id": "e4a6a743-1b69-4ac6-9992-143dff5e7f70",
   "metadata": {},
   "source": [
    "# 4"
   ]
  },
  {
   "cell_type": "markdown",
   "id": "5e52c5d1-1a8c-454e-a0db-11ebb5de44d5",
   "metadata": {},
   "source": [
    "## a) luas segitiga dengan rumus alas*tinggi/2"
   ]
  },
  {
   "cell_type": "code",
   "execution_count": 37,
   "id": "836950db-a9be-4ada-958b-e87c6d5fc9d1",
   "metadata": {},
   "outputs": [
    {
     "name": "stdin",
     "output_type": "stream",
     "text": [
      "alas (cm)  : 2\n",
      "tinggi (cm): 3\n"
     ]
    },
    {
     "name": "stdout",
     "output_type": "stream",
     "text": [
      "Luas segitigas (cm2): 3.0\n"
     ]
    }
   ],
   "source": [
    "alas   = input('alas (cm)  :')\n",
    "tinggi = input('tinggi (cm):')\n",
    "luas   = float(alas)*float(tinggi)/2\n",
    "print('Luas segitigas (cm2):',luas)"
   ]
  },
  {
   "cell_type": "markdown",
   "id": "d150480f-2c3e-4971-9763-586f954fe3f7",
   "metadata": {},
   "source": [
    "## b) luas segitiga dengan rumus heron"
   ]
  },
  {
   "cell_type": "code",
   "execution_count": 42,
   "id": "fd8935cc-01e3-4f97-b22e-7c4678c9368f",
   "metadata": {},
   "outputs": [
    {
     "name": "stdin",
     "output_type": "stream",
     "text": [
      "panjang sisi 1: 3\n",
      "panjang sisi 2: 4\n",
      "panjang sisi 3: 5\n"
     ]
    },
    {
     "name": "stdout",
     "output_type": "stream",
     "text": [
      "Luas segitigas (cm2): 6.0\n"
     ]
    }
   ],
   "source": [
    "import numpy as np\n",
    "x = float(input('panjang sisi 1:'))\n",
    "y = float(input('panjang sisi 2:'))\n",
    "z = float(input('panjang sisi 3:'))\n",
    "s = (x+y+z)/2\n",
    "luas2 = np.sqrt(s*(s-x)*(s-y)*(s-z))\n",
    "print('Luas segitigas (cm2):',luas2)"
   ]
  },
  {
   "cell_type": "markdown",
   "id": "e901c6f7-46ee-4359-a85c-850f95b1495c",
   "metadata": {},
   "source": [
    "# 5"
   ]
  },
  {
   "cell_type": "code",
   "execution_count": 53,
   "id": "c29ab225-363e-45e1-8800-5383fe8ace17",
   "metadata": {},
   "outputs": [
    {
     "name": "stdin",
     "output_type": "stream",
     "text": [
      "Masukkan besar magnitude: 100\n"
     ]
    },
    {
     "name": "stdout",
     "output_type": "stream",
     "text": [
      "Massive earthquake\n"
     ]
    }
   ],
   "source": [
    "magnitude = float(input('Masukkan besar magnitude:'))\n",
    "if magnitude < 2:\n",
    "    print('Micro earthquake')\n",
    "elif magnitude <= 2 or magnitude <= 3.9:\n",
    "    print('Minor earthquake')\n",
    "elif magnitude <= 4 or magnitude <= 4.9:\n",
    "    print('Light earthquake')\n",
    "elif magnitude <= 5 or magnitude <= 5.9:\n",
    "    print('Moderate earthquake')\n",
    "elif magnitude <= 6 or magnitude <= 6.9:\n",
    "    print('Strong earthquake')\n",
    "elif magnitude <= 7 or magnitude <= 7.9:\n",
    "    print('Major earthquake')\n",
    "elif magnitude <= 8 or magnitude <= 9.9:\n",
    "    print('Great earthquake')\n",
    "elif magnitude >=10:\n",
    "    print('Massive earthquake')"
   ]
  },
  {
   "cell_type": "code",
   "execution_count": null,
   "id": "c49adb1b-eada-4465-a54e-f73a4e3799a8",
   "metadata": {},
   "outputs": [],
   "source": []
  }
 ],
 "metadata": {
  "kernelspec": {
   "display_name": "Python 3 (ipykernel)",
   "language": "python",
   "name": "python3"
  },
  "language_info": {
   "codemirror_mode": {
    "name": "ipython",
    "version": 3
   },
   "file_extension": ".py",
   "mimetype": "text/x-python",
   "name": "python",
   "nbconvert_exporter": "python",
   "pygments_lexer": "ipython3",
   "version": "3.10.4"
  }
 },
 "nbformat": 4,
 "nbformat_minor": 5
}
